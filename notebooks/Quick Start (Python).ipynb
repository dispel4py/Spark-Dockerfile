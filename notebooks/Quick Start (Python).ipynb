{
 "cells": [
  {
   "cell_type": "code",
   "execution_count": 1,
   "metadata": {
    "collapsed": true
   },
   "outputs": [],
   "source": [
    "from pyspark import SparkContext\n",
    "\n",
    "sc = SparkContext(\"local\", \"Quick Start\")"
   ]
  },
  {
   "cell_type": "code",
   "execution_count": 2,
   "metadata": {
    "collapsed": true
   },
   "outputs": [],
   "source": [
    "textFile = sc.textFile(\"file:///usr/local/spark/README.md\")"
   ]
  },
  {
   "cell_type": "code",
   "execution_count": 3,
   "metadata": {
    "collapsed": false
   },
   "outputs": [
    {
     "data": {
      "text/plain": [
       "104"
      ]
     },
     "execution_count": 3,
     "metadata": {},
     "output_type": "execute_result"
    }
   ],
   "source": [
    "textFile.count()"
   ]
  },
  {
   "cell_type": "code",
   "execution_count": 4,
   "metadata": {
    "collapsed": false
   },
   "outputs": [
    {
     "data": {
      "text/plain": [
       "u'# Apache Spark'"
      ]
     },
     "execution_count": 4,
     "metadata": {},
     "output_type": "execute_result"
    }
   ],
   "source": [
    "textFile.first()"
   ]
  },
  {
   "cell_type": "code",
   "execution_count": 5,
   "metadata": {
    "collapsed": true
   },
   "outputs": [],
   "source": [
    "linesWithSpark = textFile.filter(lambda line: \"Spark\" in line)"
   ]
  },
  {
   "cell_type": "code",
   "execution_count": 6,
   "metadata": {
    "collapsed": false
   },
   "outputs": [
    {
     "data": {
      "text/plain": [
       "20"
      ]
     },
     "execution_count": 6,
     "metadata": {},
     "output_type": "execute_result"
    }
   ],
   "source": [
    "textFile.filter(lambda line: \"Spark\" in line).count()"
   ]
  },
  {
   "cell_type": "code",
   "execution_count": 7,
   "metadata": {
    "collapsed": false
   },
   "outputs": [
    {
     "data": {
      "text/plain": [
       "22"
      ]
     },
     "execution_count": 7,
     "metadata": {},
     "output_type": "execute_result"
    }
   ],
   "source": [
    "textFile.map(lambda line: len(line.split())).reduce(lambda a, b: a if (a > b) else b)"
   ]
  },
  {
   "cell_type": "code",
   "execution_count": 8,
   "metadata": {
    "collapsed": false
   },
   "outputs": [
    {
     "data": {
      "text/plain": [
       "22"
      ]
     },
     "execution_count": 8,
     "metadata": {},
     "output_type": "execute_result"
    }
   ],
   "source": [
    "def max(a, b):\n",
    "    if a > b:\n",
    "        return a\n",
    "    else:\n",
    "        return b\n",
    "\n",
    "textFile.map(lambda line: len(line.split())).reduce(max)"
   ]
  },
  {
   "cell_type": "code",
   "execution_count": 9,
   "metadata": {
    "collapsed": true
   },
   "outputs": [],
   "source": [
    "wordCounts = textFile.flatMap(lambda line: line.split()).map(lambda word: (word, 1)).reduceByKey(lambda a, b: a + b)"
   ]
  },
  {
   "cell_type": "code",
   "execution_count": 10,
   "metadata": {
    "collapsed": false
   },
   "outputs": [
    {
     "data": {
      "text/plain": [
       "[(u'project.', 1),\n",
       " (u'help', 1),\n",
       " (u'when', 1),\n",
       " (u'Hadoop', 3),\n",
       " (u'MLlib', 1),\n",
       " (u'not', 1),\n",
       " (u'./dev/run-tests', 1),\n",
       " (u'including', 4),\n",
       " (u'graph', 1),\n",
       " (u'computation', 1),\n",
       " (u'file', 1),\n",
       " (u'high-level', 1),\n",
       " (u'find', 1),\n",
       " (u'web', 1),\n",
       " (u'Shell', 2),\n",
       " (u'cluster', 2),\n",
       " (u'also', 4),\n",
       " (u'using:', 1),\n",
       " (u'Big', 1),\n",
       " (u'guidance', 2),\n",
       " (u'run:', 1),\n",
       " (u'Scala,', 1),\n",
       " (u'Running', 1),\n",
       " (u'should', 2),\n",
       " (u'environment', 1),\n",
       " (u'to', 17),\n",
       " (u'only', 1),\n",
       " (u'module,', 1),\n",
       " (u'given.', 1),\n",
       " (u'rich', 1),\n",
       " (u'directory.', 1),\n",
       " (u'Apache', 1),\n",
       " (u'Interactive', 2),\n",
       " (u'sc.parallelize(range(1000)).count()', 1),\n",
       " (u'Building', 1),\n",
       " (u'do', 2),\n",
       " (u'guide,', 1),\n",
       " (u'return', 2),\n",
       " (u'which', 2),\n",
       " (u'than', 1),\n",
       " (u'Programs', 1),\n",
       " (u'Many', 1),\n",
       " (u'Try', 1),\n",
       " (u'built,', 1),\n",
       " (u'YARN,', 1),\n",
       " (u'R,', 1),\n",
       " (u'using', 5),\n",
       " (u'Example', 1),\n",
       " (u'scala>', 1),\n",
       " (u'Once', 1),\n",
       " (u'-DskipTests', 1),\n",
       " (u'Spark\"](http://spark.apache.org/docs/latest/building-spark.html).', 1),\n",
       " (u'and', 9),\n",
       " (u'Because', 1),\n",
       " (u'cluster.', 1),\n",
       " (u'name', 1),\n",
       " (u'-T', 1),\n",
       " (u'Testing', 1),\n",
       " (u'optimized', 1),\n",
       " (u'Streaming', 1),\n",
       " (u'./bin/pyspark', 1),\n",
       " (u'SQL', 2),\n",
       " (u'through', 1),\n",
       " (u'GraphX', 1),\n",
       " (u'them,', 1),\n",
       " (u'guide](http://spark.apache.org/contributing.html)', 1),\n",
       " (u'[run', 1),\n",
       " (u'analysis.', 1),\n",
       " (u'development', 1),\n",
       " (u'abbreviated', 1),\n",
       " (u'set', 2),\n",
       " (u'For', 3),\n",
       " (u'Scala', 2),\n",
       " (u'##', 9),\n",
       " (u'the', 24),\n",
       " (u'thread,', 1),\n",
       " (u'library', 1),\n",
       " (u'see', 3),\n",
       " (u'individual', 1),\n",
       " (u'examples', 2),\n",
       " (u'MASTER', 1),\n",
       " (u'[http://spark.apache.org/developer-tools.html](the', 1),\n",
       " (u'runs.', 1),\n",
       " (u'[Apache', 1),\n",
       " (u'Pi', 1),\n",
       " (u'instructions.', 1),\n",
       " (u'More', 1),\n",
       " (u'Python,', 2),\n",
       " (u'#', 1),\n",
       " (u'processing,', 1),\n",
       " (u'for', 12),\n",
       " (u'several', 1),\n",
       " (u'review', 1),\n",
       " (u'its', 1),\n",
       " (u'contributing', 1),\n",
       " (u'This', 2),\n",
       " (u'Developer', 1),\n",
       " (u'version', 1),\n",
       " (u'provides', 1),\n",
       " (u'print', 1),\n",
       " (u'get', 1),\n",
       " (u'Configuration', 1),\n",
       " (u'supports', 2),\n",
       " (u'command,', 2),\n",
       " (u'[params]`.', 1),\n",
       " (u'refer', 2),\n",
       " (u'available', 1),\n",
       " (u'be', 2),\n",
       " (u'Guide](http://spark.apache.org/docs/latest/configuration.html)', 1),\n",
       " (u'run', 7),\n",
       " (u'./bin/run-example', 2),\n",
       " (u'Versions', 1),\n",
       " (u'[\"Parallel', 1),\n",
       " (u'Hadoop,', 2),\n",
       " (u'Documentation', 1),\n",
       " (u'use', 3),\n",
       " (u'downloaded', 1),\n",
       " (u'distributions.', 1),\n",
       " (u'Spark.', 1),\n",
       " (u'example:', 1),\n",
       " (u'by', 1),\n",
       " (u'package.', 1),\n",
       " (u'Maven](http://maven.apache.org/).', 1),\n",
       " (u'[\"Building', 1),\n",
       " (u'thread', 1),\n",
       " (u'package', 1),\n",
       " (u'of', 5),\n",
       " (u'changed', 1),\n",
       " (u'programming', 1),\n",
       " (u'Spark', 16),\n",
       " (u'against', 1),\n",
       " (u'site,', 1),\n",
       " (u'Maven,', 1),\n",
       " (u'3\"](https://cwiki.apache.org/confluence/display/MAVEN/Parallel+builds+in+Maven+3).',\n",
       "  1),\n",
       " (u'or', 3),\n",
       " (u'comes', 1),\n",
       " (u'first', 1),\n",
       " (u'info', 1),\n",
       " (u'contains', 1),\n",
       " (u'can', 7),\n",
       " (u'overview', 1),\n",
       " (u'package.)', 1),\n",
       " (u'Please', 4),\n",
       " (u'one', 3),\n",
       " (u'Contributing', 1),\n",
       " (u'(You', 1),\n",
       " (u'Online', 1),\n",
       " (u'tools', 1),\n",
       " (u'your', 1),\n",
       " (u'page](http://spark.apache.org/documentation.html).', 1),\n",
       " (u'threads.', 1),\n",
       " (u'Tests', 1),\n",
       " (u'fast', 1),\n",
       " (u'from', 1),\n",
       " (u'[project', 1),\n",
       " (u'APIs', 1),\n",
       " (u'>>>', 1),\n",
       " (u'SparkPi', 2),\n",
       " (u'locally', 2),\n",
       " (u'system', 1),\n",
       " (u'submit', 1),\n",
       " (u'`examples`', 2),\n",
       " (u'systems.', 1),\n",
       " (u'start', 1),\n",
       " (u'IDE,', 1),\n",
       " (u'params', 1),\n",
       " (u'build/mvn', 1),\n",
       " (u'way', 1),\n",
       " (u'basic', 1),\n",
       " (u'README', 1),\n",
       " (u'<http://spark.apache.org/>', 1),\n",
       " (u'It', 2),\n",
       " (u'graphs', 1),\n",
       " (u'more', 1),\n",
       " (u'engine', 1),\n",
       " (u'project', 1),\n",
       " (u'option', 1),\n",
       " (u'on', 7),\n",
       " (u'started', 1),\n",
       " (u'Note', 1),\n",
       " (u'N', 1),\n",
       " (u'usage', 1),\n",
       " (u'versions', 1),\n",
       " (u'DataFrames,', 1),\n",
       " (u'particular', 2),\n",
       " (u'instance:', 1),\n",
       " (u'./bin/spark-shell', 1),\n",
       " (u'general', 3),\n",
       " (u'with', 4),\n",
       " (u'easiest', 1),\n",
       " (u'protocols', 1),\n",
       " (u'must', 1),\n",
       " (u'And', 1),\n",
       " (u'Useful', 1),\n",
       " (u'builds', 1),\n",
       " (u'developing', 1),\n",
       " (u'this', 1),\n",
       " (u'setup', 1),\n",
       " (u'shell:', 2),\n",
       " (u'will', 1),\n",
       " (u'`./bin/run-example', 1),\n",
       " (u'following', 2),\n",
       " (u'Hadoop-supported', 1),\n",
       " (u'distribution', 1),\n",
       " (u'Maven', 1),\n",
       " (u'example', 3),\n",
       " (u'are', 1),\n",
       " (u'detailed', 2),\n",
       " (u'Data.', 1),\n",
       " (u'mesos://', 1),\n",
       " (u'stream', 1),\n",
       " (u'computing', 1),\n",
       " (u'URL,', 1),\n",
       " (u'is', 6),\n",
       " (u'in', 6),\n",
       " (u'higher-level', 1),\n",
       " (u'tests', 2),\n",
       " (u'1000:', 2),\n",
       " (u'an', 4),\n",
       " (u'sample', 1),\n",
       " (u'To', 2),\n",
       " (u'tests](http://spark.apache.org/developer-tools.html#individual-tests).',\n",
       "  1),\n",
       " (u'tips,', 1),\n",
       " (u'at', 2),\n",
       " (u'have', 1),\n",
       " (u'1000).count()', 1),\n",
       " (u'[\"Specifying', 1),\n",
       " (u'[building', 1),\n",
       " (u'\"local\"', 1),\n",
       " (u'You', 4),\n",
       " (u'configure', 1),\n",
       " (u'information', 1),\n",
       " (u'different', 1),\n",
       " (u'page).', 1),\n",
       " (u'MASTER=spark://host:7077', 1),\n",
       " (u'no', 1),\n",
       " (u'programs,', 1),\n",
       " (u'Java,', 1),\n",
       " (u'that', 2),\n",
       " (u'storage', 1),\n",
       " (u'documentation,', 1),\n",
       " (u'same', 1),\n",
       " (u'machine', 1),\n",
       " (u'how', 3),\n",
       " (u'need', 1),\n",
       " (u'other', 1),\n",
       " (u'build', 4),\n",
       " (u'prefer', 1),\n",
       " (u'online', 1),\n",
       " (u'you', 4),\n",
       " (u'if', 4),\n",
       " (u'[Contribution', 1),\n",
       " (u'A', 1),\n",
       " (u'About', 1),\n",
       " (u'HDFS', 1),\n",
       " (u'[Configuration', 1),\n",
       " (u'sc.parallelize(1', 1),\n",
       " (u'locally.', 1),\n",
       " (u'Hive', 2),\n",
       " (u'running', 1),\n",
       " (u'uses', 1),\n",
       " (u'a', 8),\n",
       " (u'Version\"](http://spark.apache.org/docs/latest/building-spark.html#specifying-the-hadoop-version)',\n",
       "  1),\n",
       " (u'variable', 1),\n",
       " (u'The', 1),\n",
       " (u'data', 1),\n",
       " (u'class', 2),\n",
       " (u'built', 1),\n",
       " (u'building', 2),\n",
       " (u'\"yarn\"', 1),\n",
       " (u'Thriftserver', 1),\n",
       " (u'processing.', 1),\n",
       " (u'programs', 2),\n",
       " (u'Tools', 1),\n",
       " (u'documentation', 3),\n",
       " (u'pre-built', 1),\n",
       " (u'Alternatively,', 1),\n",
       " (u'Python', 2),\n",
       " (u'core', 1),\n",
       " (u'\"local[N]\"', 1),\n",
       " (u'Spark](#building-spark).', 1),\n",
       " (u'clean', 1),\n",
       " (u'<class>', 1),\n",
       " (u'spark://', 1),\n",
       " (u'learning,', 1),\n",
       " (u'requires', 1),\n",
       " (u'talk', 1),\n",
       " (u'latest', 1)]"
      ]
     },
     "execution_count": 10,
     "metadata": {},
     "output_type": "execute_result"
    }
   ],
   "source": [
    "wordCounts.collect()"
   ]
  },
  {
   "cell_type": "code",
   "execution_count": 11,
   "metadata": {
    "collapsed": false
   },
   "outputs": [
    {
     "data": {
      "text/plain": [
       "PythonRDD[12] at RDD at PythonRDD.scala:48"
      ]
     },
     "execution_count": 11,
     "metadata": {},
     "output_type": "execute_result"
    }
   ],
   "source": [
    "linesWithSpark.cache()"
   ]
  },
  {
   "cell_type": "code",
   "execution_count": 12,
   "metadata": {
    "collapsed": false
   },
   "outputs": [
    {
     "data": {
      "text/plain": [
       "20"
      ]
     },
     "execution_count": 12,
     "metadata": {},
     "output_type": "execute_result"
    }
   ],
   "source": [
    "linesWithSpark.count()"
   ]
  }
 ],
 "metadata": {
  "kernelspec": {
   "display_name": "Python 2",
   "language": "python",
   "name": "python2"
  },
  "language_info": {
   "codemirror_mode": {
    "name": "ipython",
    "version": 2
   },
   "file_extension": ".py",
   "mimetype": "text/x-python",
   "name": "python",
   "nbconvert_exporter": "python",
   "pygments_lexer": "ipython2",
   "version": "2.7.12"
  }
 },
 "nbformat": 4,
 "nbformat_minor": 2
}
